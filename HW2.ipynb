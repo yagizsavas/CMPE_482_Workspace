{
 "cells": [
  {
   "cell_type": "markdown",
   "metadata": {},
   "source": [
    "   # HW #2                                                                  \n",
    "\n",
    "   "
   ]
  },
  {
   "cell_type": "markdown",
   "metadata": {},
   "source": [
    "$\\textbf{Yagiz Savas- 2011405177}$\n",
    "\n",
    "\n",
    "\n",
    "\n",
    "$x \\in \\mathbb{C}^m$ ,\n",
    "$ \\ A \\in \\mathbb{C}^{m \\times n}$\n",
    "\n",
    " a)\n",
    " \n",
    "  $\\begin{aligned} \\left\\Vert x \\right\\Vert_{\\infty} = &\\ \\max\\limits_{1 \\leq i \\leq m} \\ \\lvert x_i \\rvert \\\\ \n",
    "   =& \\ \\big(\\big(\\max\\limits_{1 \\leq i \\leq m} \\ \\lvert x_i \\rvert\\big)^2\\big)^{1/2}\\\\\n",
    "   \\leq & \\ \\big(\\sum_{i=1}^m (x_i)^2\\big)^{1/2} \\\\\n",
    "   \\leq & \\ \\lVert x \\rVert_2\\end{aligned} $\n",
    "\n",
    "$\\ \\textbf{Example: }\n",
    "\\ x_i,x_j \\in \\textbf{x} ,\\ (\\exists! i, \\forall j \\neq i, x_i=k \\ and \\ x_j=0) \\ \\implies \\lVert x \\rVert_{\\infty}=k \\ \\land \\ \\lVert x \\rVert_{2}=k \\implies \\lVert x \\rVert_{\\infty} = \\lVert x \\rVert_2$\n",
    "\n",
    "\n",
    "$i.e. \\ m=4, \\ \\textbf{x}= [1 \\ 0\\  0 \\ 0]^T, \\lVert x \\rVert_{\\infty}=1 $ and $\\lVert x \\rVert_{2}=1 $\n",
    "   \n",
    "b)\n",
    "\n",
    "  $ \\begin{aligned} \\left\\Vert x \\right\\Vert_{2}= & \\ \\big (\\sum_{i=1}^m x_i^2\\big)^{1/2} \\\\\n",
    " \\leq & \\ (m\\ \\max\\limits_{1 \\leq i \\leq m} \\ x_i^2)^{1/2}\\\\\n",
    " \\leq & \\ \\sqrt{m} \\max\\limits_{1 \\leq i \\leq m} \\lvert \\ x_i \\rvert\\\\\n",
    " \\leq & \\ \\sqrt{m} \\ \\lVert x \\rVert_{\\infty}\\end{aligned}$\n",
    " \n",
    " \n",
    " \n",
    " $\\ \\ \\textbf{Example: }\\\n",
    " x_i,x_j \\in \\textbf{x} ,\\ (\\forall i, \\forall j, \\ x_i=x_j=k) \\  \\implies \\lVert x \\rVert_{\\infty}=k \\ \\land \\ \\lVert x \\rVert_{2}=\\sqrt{m}\\ k \\implies \\ \\lVert x \\rVert_2 = \\sqrt{m}\\ \\lVert x \\rVert_{\\infty} $\n",
    " \n",
    " \n",
    " $i.e. \\ m=4, \\ \\textbf{x}= [1 \\ 1\\  1 \\ 1]^T, \\lVert x \\rVert_{\\infty}=1 $ and $\\lVert x \\rVert_{2}=2 $\n",
    " \n",
    "c)\n",
    "\n",
    " $A= \\begin{bmatrix} \n",
    "  a_1 \\\\ \n",
    "  a_2 \\\\\n",
    "  .. \\\\\n",
    "  a_m\n",
    "   \\end{bmatrix}$ where $a_i, i=1,2,..,m $ are rows of $A$.\n",
    "\n",
    " $ \\begin{aligned} \\left\\Vert A \\right\\Vert_{2} =& \\ \\big(\\sum_{i=1}^m \\sum_{j=1}^n \\lvert a_{ij} \\rvert ^2\\big)^{1/2}\\\\\n",
    "  = & \\ \\big(\\sum_{i=1}^m \\lVert a_i \\rVert_2^2\\big)^{1/2} \\\\\n",
    "  \\leq & \\ \\big(m \\ \\max\\limits_{1 \\leq i \\leq m} \\ \\lVert a_i \\rVert _2^2\\big)^{1/2}\\\\\n",
    "  \\leq & \\ \\sqrt{m} \\max\\limits_{1 \\leq i \\leq m} \\ \\lVert a_i \\rVert \\\\\n",
    "  \\leq & \\ \\sqrt{m} \\ \\left\\Vert A \\right\\Vert_{\\infty} \\end{aligned}$\n",
    "\n",
    "  $\\ \\ \\textbf{Example: }\\ \n",
    "  n>m , \\ a_{ij} \\in A , \\forall i, \\forall j, \\ ((i=j\\implies a_{ij}=k)\\ \\land \\ (i\\neq j \\implies a_{ij}=0)) \\implies \\ \\left\\Vert A \\right\\Vert_{\\infty}=k \\land \\ \\left\\Vert A \\right\\Vert_{2}=\\sqrt{m}\\ k \\\\ \n",
    "  \\implies \\left\\Vert A \\right\\Vert_{2} = \\sqrt{m} \\left\\Vert A \\right\\Vert_{\\infty}$\n",
    "  \n",
    "  \n",
    "  \n",
    "  \n",
    "  \n",
    "  \n",
    "  \n",
    "  $i.e. \\ m=3,\\ n=4,  \\ A= \\begin{bmatrix} \n",
    "  1 & 0 & 0 & 0 \\\\ \n",
    "  0 & 1 & 0 & 0\\\\\n",
    "  0 & 0 & 1& 0\n",
    "   \\end{bmatrix}, \\lVert A \\rVert_{\\infty}=1 $ and $\\lVert A \\rVert_{2}=\\sqrt{3} $\n",
    "\n",
    "\n"
   ]
  }
 ],
 "metadata": {
  "kernelspec": {
   "display_name": "Octave",
   "language": "octave",
   "name": "octave"
  },
  "language_info": {
   "file_extension": ".m",
   "help_links": [
    {
     "text": "GNU Octave",
     "url": "https://www.gnu.org/software/octave/support.html"
    },
    {
     "text": "Octave Kernel",
     "url": "https://github.com/Calysto/octave_kernel"
    },
    {
     "text": "MetaKernel Magics",
     "url": "https://github.com/calysto/metakernel/blob/master/metakernel/magics/README.md"
    }
   ],
   "mimetype": "text/x-octave",
   "name": "octave",
   "version": "4.0.0"
  }
 },
 "nbformat": 4,
 "nbformat_minor": 2
}
