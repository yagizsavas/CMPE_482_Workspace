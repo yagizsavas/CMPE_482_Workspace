{
 "cells": [
  {
   "cell_type": "markdown",
   "metadata": {
    "collapsed": false
   },
   "source": [
    "# HW 3\n",
    "\n",
    "\n",
    "\n",
    "$\\textbf{Yagiz Savas}$ \n",
    "\n",
    "$\\textbf{Question 3.6a)}$\n",
    "\n",
    "Prove $\\lVert x \\rVert'= \\sup_{\\lVert y \\rVert =1} \\lvert y^\\star x \\rvert$ is a valid norm.\n",
    "\n",
    "i) \n",
    "\n",
    "$\\lVert x \\rVert' =\\sup_{\\lVert y \\rVert =1} \\lvert y_1x_1+y_2x_2+..+y_nx_n\\rvert \\geq 0 $\n",
    "\n",
    " $ x_i=0 \\ \\forall i=1,2,..,n \\implies \\lVert x \\rVert'=0$\n",
    " \n",
    " ii) \n",
    " \n",
    " $\\begin{align*}\n",
    " \\lVert x+z \\rVert'= & \\sup_{\\lVert y \\rVert =1} \\lvert y^\\star(x+z)\\rvert \\\\\n",
    " =&\\sup_{\\lVert y \\rVert =1} \\lvert y^\\star x+y^\\star z\\rvert \\\\\n",
    " \\leq & \\sup_{\\lVert y \\rVert =1} (\\lvert y^\\star x\\rvert +\\lvert y^\\star z\\rvert )\\\\\n",
    " =& \\sup_{\\lVert y \\rVert =1} \\lvert y^\\star x\\rvert+ \\sup_{\\lVert y \\rVert =1} \\lvert y^\\star z\\rvert \\\\\n",
    " =& \\lVert x\\rVert'+\\lVert z \\rVert'\\end{align*}$\n",
    " \n",
    " iii)\n",
    " \n",
    "$ \\begin{align*}\n",
    "\\lVert \\alpha x \\rVert'=& \\sup_{\\lVert y \\rVert =1} \\lvert y^\\star(\\alpha x)\\rvert \\\\\n",
    "=&\\sup_{\\lVert y \\rVert =1} \\lvert (\\alpha)y^\\star x\\rvert \\\\\n",
    "=&  \\sup_{\\lVert y \\rVert =1}\\lvert \\alpha \\rvert \\lvert y^\\star x\\rvert \\\\\n",
    "=&  \\lvert \\alpha \\rvert \\sup_{\\lVert y \\rVert =1} \\lvert y^\\star x\\rvert \\\\\n",
    "=& \\lvert \\alpha \\rvert \\lVert x \\rVert'\n",
    " \\end{align*}$\n",
    " \n",
    "$\\textbf{Question 4.5}$\n",
    "\n",
    "$A \\in \\mathbb{R}^{m \\times n} \\iff A^\\star = A^T$\n",
    "\n",
    "We know that $\\Sigma \\in \\mathbb{R}^{m \\times n}$\n",
    "\n",
    "$A^\\star A= V\\Sigma^2 V^\\star = (V^\\star)^T\\Sigma^2 V^\\star= A^TA \\implies V=(V^\\star)^T \\implies V^T=V^\\star \\implies V \\in \\mathbb{R}^{n \\times n}$\n",
    " \n",
    "$A A^\\star= U\\Sigma^2 U^\\star = U \\Sigma^2 U^T= AA^T \\implies U^T=U^\\star \\implies U \\in \\mathbb{R}^{m \\times m}$\n",
    " \n",
    "$\\textbf{Question 5.3}$\n",
    "\n",
    "a)\n",
    "\n",
    "$A=U\\Sigma V^\\star$ $\\implies$ $ A^\\star A=V\\Sigma^2 V^\\star $\n",
    "\n",
    "Since $A^\\star A$ is symmetric non-singular matrix, its eigenvectors can be calculated by using power and inverse power methods. Power method is used to find the eigen direction with largest eigenvalue whereas, inverse power method is used to find with smallest one. These methods does not provide eigenvalues of A but provide square of its singular values. Additionally, they establish $V$ matrix whose columns are orthonormal to each other. \n",
    "Then by calculating columns of U, $u_i$, as $Av_i/\\sigma_i$ decomposition is completed.\n",
    "\n",
    "\n",
    "\n"
   ]
  },
  {
   "cell_type": "code",
   "execution_count": 2,
   "metadata": {
    "collapsed": false
   },
   "outputs": [
    {
     "name": "stdout",
     "output_type": "stream",
     "text": [
      "Singular values are :\n",
      " 14.142\n",
      " 7.0711\n",
      "Left singular matrix U, is: \n",
      "   0.70711   0.70711\n",
      "   0.70711  -0.70711\n",
      "Right singular matrix V, is: \n",
      "  -0.60000   0.80000\n",
      "   0.80000   0.60000\n"
     ]
    }
   ],
   "source": [
    "clear all\n",
    "A=[-2 11; -10 5]; % A matrix\n",
    "err_1=1; % initialize eigenvector errors\n",
    "err_2=1;\n",
    "v_1=[0;1]; % initialize eigenvectors \n",
    "v_2=[1;0];\n",
    "w_1=[0;0]; % define vectors which is used in power iterations\n",
    "w_1=[0;0];\n",
    "square=A'*A; % calculate square of A\n",
    "\n",
    "\n",
    "% Calculate singular values and eigenvectors of A by using power and inverse power methods. \n",
    "while (err_1>(10^-5) && err_2>(10^-5)) \n",
    "    %power method to find square of largest singular value \n",
    "    w_1=square*v_1;\n",
    "    v_1=w_1/(w_1(1)^2+w_1(2)^2)^(1/2);\n",
    "    lambda_1=(v_1'*square*v_1)/(v_1'*v_1);\n",
    "    error_matrix_1=abs(lambda_1*v_1-square*v_1);\n",
    "    err_1=(error_matrix_1(1)^2+error_matrix_1(2)^2)^(1/2);\n",
    "\n",
    "    %inverse power method to find square of smallest singular value\n",
    "    w_2=square\\v_2;\n",
    "    v_2=w_2/(w_2(1)^2+w_2(2)^2)^(1/2);\n",
    "    lambda_2=(v_2'*square*v_2)/(v_2'*v_2);\n",
    "    error_matrix_2=abs(lambda_2*v_2-square*v_2);\n",
    "    err_2=(error_matrix_2(1)^2+error_matrix_2(2)^2)^(1/2);\n",
    "endwhile\n",
    "\n",
    "V=[v_1 v_2]; % Compose V vector \n",
    "sigma=diag([sqrt(lambda_1),sqrt(lambda_2)]); % Compose Sigma vector\n",
    "U_1=A*V(:,1)/sigma(1,1);\n",
    "U_2=A*V(:,2)/sigma(2,2);\n",
    "U=[U_1 U_2]; % Compose U vector\n",
    "\n",
    "%output (Note: Sorry for bad looking. I could not find a better way for representation.)\n",
    "disp('Singular values are :');\n",
    "disp(sigma(1,1)); \n",
    "disp(sigma(2,2));\n",
    "disp('Left singular matrix U, is: ');\n",
    "disp(U);\n",
    "disp('Right singular matrix V, is: ');\n",
    "disp(V)"
   ]
  },
  {
   "cell_type": "markdown",
   "metadata": {},
   "source": [
    "b)"
   ]
  },
  {
   "cell_type": "code",
   "execution_count": 3,
   "metadata": {
    "collapsed": false
   },
   "outputs": [
    {
     "data": {
      "image/png": "[encoded data removed]",
      "text/plain": [
       "<IPython.core.display.Image object>"
      ]
     },
     "metadata": {},
     "output_type": "display_data"
    }
   ],
   "source": [
    "%Plot a unit circle\n",
    "N=200;\n",
    "a=cos(2*pi/N);b=sin(2*pi/N); % Rotation terms\n",
    "x(N)=0; y(N)=1; % Predimension arrays\n",
    "x(1)=0; y(1)=1; % Initial values\n",
    "for k=1:N-1\n",
    "x(k+1)=a*x(k)+b*y(k);\n",
    "y(k+1)=a*y(k)-b*x(k);\n",
    "endfor\n",
    "\n",
    "%Plot basis vectors for domain space (eigenvectors for this case !)\n",
    "subplot(2,1,1)\n",
    "plot(x,y,'r')\n",
    "hold on\n",
    "grid on \n",
    "title('Orthonormal domain vectors','FontSize', 18 )\n",
    "xlabel('x coordinate','FontSize', 14 )\n",
    "ylabel('y coordinate','FontSize', 14 )\n",
    "set(gca,'xlim',[-2 2],'ylim', [-2 2])\n",
    "compass(v_1(1),v_1(2))\n",
    "text(v_1(1)/2,v_1(2)/2+0.2,'V_1','FontSize', 14 );\n",
    "compass(v_2(1),v_2(2))\n",
    "text(v_2(1)/2,v_2(2)/2-0.1,'V_2','FontSize', 14 );\n",
    "\n",
    "%Plot corresponding basis vectors for range space\n",
    "subplot(2,1,2);\n",
    "Data=[x;y];\n",
    "Transform=A*Data;\n",
    "plot(Transform(1,:),Transform(2,:),'r');\n",
    "hold on\n",
    "grid on\n",
    "title('Orthonormal range vectors','FontSize', 18 )\n",
    "xlabel('x coordinate','FontSize', 14 )\n",
    "ylabel('y coordinate','FontSize', 14 )\n",
    "compass(U_1(1)*sigma(1,1),U_1(2)*sigma(1,1));\n",
    "text(U_1(1)*sigma(1,1)/2,U_1(2)*sigma(1,1)/2-1,'U_1\\sigma_1','FontSize', 14 );\n",
    "compass(U_2(1)*sigma(2,2),U_2(2)*sigma(2,2));\n",
    "text(U_2(1)*sigma(2,2)/2-2,U_2(2)*sigma(2,2)/2,'U_2\\sigma_2','FontSize', 14 );"
   ]
  },
  {
   "cell_type": "markdown",
   "metadata": {},
   "source": [
    "c)"
   ]
  },
  {
   "cell_type": "code",
   "execution_count": 4,
   "metadata": {
    "collapsed": false
   },
   "outputs": [
    {
     "name": "stdout",
     "output_type": "stream",
     "text": [
      "First Norm of A:\n",
      " 16\n",
      "Euclidian Norm of A:\n",
      " 14.142\n",
      "Inf Norm of A:\n",
      " 15\n",
      "Frobenius Norm of A:\n",
      " 15.811\n"
     ]
    }
   ],
   "source": [
    "n=length(A(1,:));\n",
    "m=length(A(:,1));\n",
    "val=zeros(n,1);\n",
    "\n",
    "%Calculate first norm by finding maximum column sum\n",
    "for j=1:n\n",
    "    for i=1:m\n",
    "        val(j)=val(j)+abs(A(i,j));\n",
    "    endfor\n",
    "endfor\n",
    "norm_one=max(val);\n",
    "disp('First Norm of A:'); disp(norm_one)\n",
    "\n",
    "%Calculate euclidian norm by using sigma values from SVD \n",
    "val=zeros(n,1);\n",
    "for i=1:n\n",
    "    val(i)=sigma(i,i);\n",
    "endfor\n",
    "norm_two=max(val);\n",
    "disp('Euclidian Norm of A:'); disp(norm_two)\n",
    "\n",
    "%Calculate infinite norm by calculating maximum row sum\n",
    "val=zeros(m,1);\n",
    "for i=1:m\n",
    "    for j=1:n\n",
    "        val(i)=val(i)+abs(A(i,j));\n",
    "    endfor\n",
    "endfor\n",
    "norm_inf=max(val);\n",
    "disp('Inf Norm of A:'); disp(norm_inf)\n",
    "\n",
    "%Calculate Frobenius norm by using inner product and trace.\n",
    "val=0;\n",
    "inner_product=A'*A;\n",
    "for i=1:m\n",
    "    val=val+inner_product(i,i);\n",
    "end\n",
    "frob_norm=sqrt(val);\n",
    "disp('Frobenius Norm of A:'); disp(frob_norm)\n"
   ]
  },
  {
   "cell_type": "markdown",
   "metadata": {},
   "source": [
    "d)\n",
    "\n",
    "$A=U \\Sigma V^\\star$ \n",
    "\n",
    "$A^{-1}=(V^\\star)^{-1}\\Sigma ^ {-1} U^{-1}$\n",
    "\n",
    "For unitary matrices $U,V$, $\\ V^\\star V=I$ and $U^\\star U=I$. Therefore $V^{-1}=V^\\star$ and $U^{-1}=U^\\star$\n",
    "\n",
    "Additionally, for diagonal matrix $\\Sigma$, $\\ \\Sigma^{-1}\\Sigma=I$. Therefore inverse of a matrix with diagonal entries, $d_i$, is a diagonal matrix with diagonal entries $\\frac{1}{d_i}.$\n",
    "\n",
    "Then,\n",
    "\n",
    "$A^{-1}=(V^\\star)^T\\Sigma^{-1} U^{T}$ and for real matrices, $A^{-1}=V\\Sigma^{-1} U^{T}$"
   ]
  },
  {
   "cell_type": "code",
   "execution_count": 5,
   "metadata": {
    "collapsed": false
   },
   "outputs": [
    {
     "name": "stdout",
     "output_type": "stream",
     "text": [
      "Inverse of A\n",
      "   0.050000  -0.110000\n",
      "   0.100000  -0.020000\n"
     ]
    }
   ],
   "source": [
    "n=length(A(1,:));\n",
    "sigma_inv=zeros(length(sigma));\n",
    "%Calculate sigma inverse\n",
    "for i=1:n\n",
    "    sigma_inv(i,i)=1/sigma(i,i);\n",
    "endfor\n",
    "%Calculate inverse of A\n",
    "inv_A=V*sigma_inv*U';\n",
    "\n",
    "disp('Inverse of A');\n",
    "disp(inv_A)"
   ]
  },
  {
   "cell_type": "markdown",
   "metadata": {},
   "source": [
    "e)"
   ]
  },
  {
   "cell_type": "code",
   "execution_count": 6,
   "metadata": {
    "collapsed": false
   },
   "outputs": [
    {
     "name": "stdout",
     "output_type": "stream",
     "text": [
      "Eigenvalues are:\n",
      "   1.5000 - 9.8869i\n",
      "   1.5000 + 9.8869i\n"
     ]
    }
   ],
   "source": [
    "f=@(q) det(A-q*eye(2));\n",
    "delta=(A(1,1)+A(2,2))^2-4*(A(1,1)*A(2,2)-A(1,2)*A(2,1));\n",
    "if delta<0\n",
    "    eigen=[fsolve(f,-1i);fsolve(f,1i)];\n",
    "endif\n",
    "disp('Eigenvalues are:')\n",
    "disp(eigen)"
   ]
  },
  {
   "cell_type": "markdown",
   "metadata": {},
   "source": [
    "f)"
   ]
  },
  {
   "cell_type": "code",
   "execution_count": 7,
   "metadata": {
    "collapsed": false
   },
   "outputs": [
    {
     "name": "stdout",
     "output_type": "stream",
     "text": [
      "exact_determinant =  100\n",
      "sigma_product =  100.00\n",
      "eigen_product = 100.000\n",
      "Determinant of A is equal to both product of its singular values and product of its eigenvalues\n"
     ]
    }
   ],
   "source": [
    "exact_determinant=det(A)\n",
    "sigma_product=sigma(1,1)*sigma(2,2)\n",
    "eigen_product=eigen(1)*eigen(2)\n",
    "disp('Determinant of A is equal to both product of its singular values and product of its eigenvalues' )"
   ]
  }
 ],
 "metadata": {
  "kernelspec": {
   "display_name": "Octave",
   "language": "octave",
   "name": "octave"
  },
  "language_info": {
   "file_extension": ".m",
   "help_links": [
    {
     "text": "GNU Octave",
     "url": "https://www.gnu.org/software/octave/support.html"
    },
    {
     "text": "Octave Kernel",
     "url": "https://github.com/Calysto/octave_kernel"
    },
    {
     "text": "MetaKernel Magics",
     "url": "https://github.com/calysto/metakernel/blob/master/metakernel/magics/README.md"
    }
   ],
   "mimetype": "text/x-octave",
   "name": "octave",
   "version": "4.0.2"
  }
 },
 "nbformat": 4,
 "nbformat_minor": 2
}
