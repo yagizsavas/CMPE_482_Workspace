{
 "cells": [
  {
   "cell_type": "markdown",
   "metadata": {},
   "source": [
    "# Yagiz Savas HW4"
   ]
  },
  {
   "cell_type": "markdown",
   "metadata": {},
   "source": [
    "\n",
    "\n",
    "\n",
    "a) We can obtain matrix $A=\\begin{bmatrix} x &x &0\\\\ 0 & x & x \\\\ 0 & 0 & x \\end{bmatrix}$ by applying two Housholder transformations from left and one Givens rotation from right as follows:\n",
    "\n",
    "\n",
    "Let $C=\\begin{bmatrix} x &x &x\\\\ x & x & x \\\\ x & x & x \\end{bmatrix}$,\n",
    "\n",
    "\n",
    "$C$ $\\rightarrow $ $Q_1C=\\begin{bmatrix} x &x &x\\\\ 0 & x & x \\\\ 0 & x & x \\end{bmatrix}$ $\\rightarrow$ $Q_1CQ_2=\\begin{bmatrix} x &x &0\\\\ 0 & x & x \\\\ 0 & x & x \\end{bmatrix}$ $\\rightarrow$ $Q_3Q_1CQ_2=\\begin{bmatrix} x &x &0\\\\ 0 & x & x \\\\ 0 & 0 & x \\end{bmatrix}$\n",
    "\n",
    "\n",
    "Therefore answer is (ii). Implementation:"
   ]
  },
  {
   "cell_type": "code",
   "execution_count": 143,
   "metadata": {
    "collapsed": false
   },
   "outputs": [
    {
     "name": "stdout",
     "output_type": "stream",
     "text": [
      "A =\n",
      "\n",
      "  -5.7646e+00   1.3228e+01  -6.1315e-16\n",
      "  -1.7985e-16   7.8475e+00  -3.2513e+00\n",
      "   1.0697e-16  -7.0379e-16  -5.4230e+00\n",
      "\n"
     ]
    }
   ],
   "source": [
    "C=10.*rand(3);\n",
    "[m,n]=size(C);\n",
    "\n",
    "% Q_1, Householder\n",
    "for i=1:1\n",
    "    v=C(i:n,i);\n",
    "    nm=sqrt(v'*v);\n",
    "    v=sign(C(i,i))*nm*eye(size(v,1),1)+v;\n",
    "    nm=sqrt(v'*v);\n",
    "    v=v/nm;\n",
    "    Q=eye(n);\n",
    "    ref=eye(size(v,1))-2*v*v';\n",
    "    Q(i:n,i:n)=ref;\n",
    "    C=Q*C;  %Q_1C\n",
    "end\n",
    "\n",
    "%Q_2 Givens\n",
    "for i=1:1\n",
    "    nm=sqrt(C(i,2)^2+C(i,3)^2);\n",
    "    co=C(i,2)/nm;\n",
    "    si=-C(i,3)/nm;\n",
    "    Q=eye(3);\n",
    "    givens=[co si; -1*si co];\n",
    "    Q(2:3,2:3)=givens;\n",
    "    C=C*Q; %Q_1CQ_2\n",
    "end\n",
    "\n",
    "%Q_3 Householder\n",
    "for i=2:2\n",
    "    v=C(i:n,i);\n",
    "    nm=sqrt(v'*v);\n",
    "    v=sign(C(i,i))*nm*eye(size(v,1),1)+v;\n",
    "    nm=sqrt(v'*v);\n",
    "    v=v/nm;\n",
    "    Q=eye(n);\n",
    "    ref=eye(size(v,1))-2*v*v';\n",
    "    Q(i:n,i:n)=ref;\n",
    "    A=Q*C %Q_3Q_1CQ_2\n",
    "end\n"
   ]
  },
  {
   "cell_type": "markdown",
   "metadata": {},
   "source": [
    "b) Using a permutation matrix, we can change the rows of matrix $A$ so that it takes the similar form to reverse diagonal. Assuming that reducing the zero element in $a_{12}$ is not neccesary, the answer is (ii).\n",
    "\n",
    "$Q_3Q_1AQ_2$ $\\rightarrow$ $ PQ_3Q_1AQ_2=\\begin{bmatrix} x &x &0\\\\ 0 & 0 & x \\\\ 0 & x & x \\end{bmatrix}$ \n",
    "\n",
    "\n",
    "Implementation:"
   ]
  },
  {
   "cell_type": "code",
   "execution_count": 144,
   "metadata": {
    "collapsed": false
   },
   "outputs": [
    {
     "name": "stdout",
     "output_type": "stream",
     "text": [
      "ans =\n",
      "\n",
      "  -5.7646e+00   1.3228e+01  -6.1315e-16\n",
      "   1.0697e-16  -7.0379e-16  -5.4230e+00\n",
      "  -1.7985e-16   7.8475e+00  -3.2513e+00\n",
      "\n"
     ]
    }
   ],
   "source": [
    "P=[1 0 0; 0 0 1; 0 1 0];\n",
    "P*A"
   ]
  },
  {
   "cell_type": "markdown",
   "metadata": {},
   "source": [
    "c) A random matrix is supposed to have a full rank. Multiplication by unitary matrices does not reduce the rank since det(Q)=1. Since the rank of the matrix is less than 3, it is not possible to obtain it by unitary transformations. Hence the answer is (iii)."
   ]
  }
 ],
 "metadata": {
  "kernelspec": {
   "display_name": "Octave",
   "language": "octave",
   "name": "octave"
  },
  "language_info": {
   "file_extension": ".m",
   "help_links": [
    {
     "text": "GNU Octave",
     "url": "https://www.gnu.org/software/octave/support.html"
    },
    {
     "text": "Octave Kernel",
     "url": "https://github.com/Calysto/octave_kernel"
    },
    {
     "text": "MetaKernel Magics",
     "url": "https://github.com/calysto/metakernel/blob/master/metakernel/magics/README.md"
    }
   ],
   "mimetype": "text/x-octave",
   "name": "octave",
   "version": "4.0.2"
  }
 },
 "nbformat": 4,
 "nbformat_minor": 2
}
